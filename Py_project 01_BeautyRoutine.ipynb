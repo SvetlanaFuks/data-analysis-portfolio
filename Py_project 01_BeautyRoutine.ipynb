{
 "cells": [
  {
   "cell_type": "code",
   "execution_count": null,
   "id": "4721917a",
   "metadata": {},
   "outputs": [
    {
     "name": "stdout",
     "output_type": "stream",
     "text": [
      "Unknown time, try again (use am or pm).\n",
      "Unknown day, try again (use full name).\n",
      "Routine for mon (morning): BHA toner and Kiehl's cream | Cleanser + Niacinamide + Kiehl's + SPF\n"
     ]
    }
   ],
   "source": [
    "day_dict = {\n",
    "    'monday': 'mon',\n",
    "    'tuesday': 'tue',\n",
    "    'wednesday': 'wed',\n",
    "    'thursday': 'thu',\n",
    "    'friday': 'fri',\n",
    "    'saturday': 'sat',\n",
    "    'sunday': 'sun'\n",
    "}\n",
    "\n",
    "time_dict = {\n",
    "    'am': 'morning',\n",
    "    'pm': 'evening'\n",
    "}\n",
    "\n",
    "base_day = {\n",
    "    'mon': 'BHA toner and Kiehl\\'s cream',\n",
    "    'tue': 'Vitamin C and Kiehl\\'s cream',\n",
    "    'wed': 'Niacinamide and Babor masque',\n",
    "    'thu': 'BHA toner and Kiehl\\'s cream',\n",
    "    'fri': 'Vitamin C and Kiehl\\'s cream',\n",
    "    'sun': 'Niacinamide and Babor masque',\n",
    "    'sat': 'Just cleanser and Kiehl\\'s cream'\n",
    "}\n",
    "\n",
    "extras_by_time = {\n",
    "    'morning': 'Cleanser + Niacinamide + Kiehl\\'s + SPF',\n",
    "    'evening': 'Make-up remover'\n",
    "}\n",
    "\n",
    "# цикл для времени\n",
    "while True:\n",
    "    time_name = input(\"Insert time (am / pm): \").strip().lower()\n",
    "    time_key = time_dict.get(time_name)\n",
    "    if time_key is not None:\n",
    "        break\n",
    "    print(\"Unknown time, try again (use am or pm).\")\n",
    "\n",
    "# цикл для дня\n",
    "while True:\n",
    "    day_name = input(\"Insert day (monday, tuesday...): \").strip().lower()\n",
    "    day_key = day_dict.get(day_name)\n",
    "    if day_key is not None:\n",
    "        break\n",
    "    print(\"Unknown day, try again (use full name).\")\n",
    "\n",
    "# результат\n",
    "routine = base_day[day_key] + \" | \" + extras_by_time[time_key]\n",
    "print(f\"Routine for {day_key} ({time_key}): {routine}\")"
   ]
  },
  {
   "cell_type": "code",
   "execution_count": null,
   "id": "113f7156",
   "metadata": {},
   "outputs": [
    {
     "ename": "SyntaxError",
     "evalue": "invalid syntax (2557203274.py, line 1)",
     "output_type": "error",
     "traceback": [
      "  \u001b[36mCell\u001b[39m\u001b[36m \u001b[39m\u001b[32mIn[1]\u001b[39m\u001b[32m, line 1\u001b[39m\n\u001b[31m    \u001b[39m\u001b[31mmkdir routine-backend && cd routine-backend\u001b[39m\n          ^\n\u001b[31mSyntaxError\u001b[39m\u001b[31m:\u001b[39m invalid syntax\n"
     ]
    }
   ],
   "source": []
  }
 ],
 "metadata": {
  "kernelspec": {
   "display_name": "Python 3",
   "language": "python",
   "name": "python3"
  },
  "language_info": {
   "codemirror_mode": {
    "name": "ipython",
    "version": 3
   },
   "file_extension": ".py",
   "mimetype": "text/x-python",
   "name": "python",
   "nbconvert_exporter": "python",
   "pygments_lexer": "ipython3",
   "version": "3.11.9"
  }
 },
 "nbformat": 4,
 "nbformat_minor": 5
}
