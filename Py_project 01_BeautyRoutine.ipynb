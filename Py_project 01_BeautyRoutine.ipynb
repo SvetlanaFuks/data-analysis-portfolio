{
 "cells": [
  {
   "cell_type": "code",
   "execution_count": 1,
   "id": "4721917a",
   "metadata": {},
   "outputs": [
    {
     "name": "stdout",
     "output_type": "stream",
     "text": [
      "Routine for mon (morning): BHA toner and Kiehl's cream | Cleanser + Niacinamide + Kiehl's + SPF\n"
     ]
    }
   ],
   "source": [
    "day_dict = {\n",
    "    'monday': 'mon',\n",
    "    'tuesday': 'tue',\n",
    "    'wednesday': 'wed',\n",
    "    'thursday': 'thu',\n",
    "    'friday': 'fri',\n",
    "    'saturday': 'sat',\n",
    "    'sunday': 'sun'\n",
    "}\n",
    "\n",
    "time_dict = {\n",
    "    'am': 'morning',\n",
    "    'pm': 'evening'\n",
    "}\n",
    "\n",
    "base_day = {\n",
    "    'mon': 'BHA toner and Kiehl\\'s cream',\n",
    "    'tue': 'Vitamin C and Kiehl\\'s cream',\n",
    "    'wed': 'Niacinamide and Babor masque',\n",
    "    'thu': 'BHA toner and Kiehl\\'s cream',\n",
    "    'fri': 'Vitamin C and Kiehl\\'s cream',\n",
    "    'sun': 'Niacinamide and Babor masque',\n",
    "    'sat': 'Just cleanser and Kiehl\\'s cream'\n",
    "}\n",
    "\n",
    "extras_by_time = {\n",
    "    'morning': 'Cleanser + Niacinamide + Kiehl\\'s + SPF',\n",
    "    'evening': 'Make-up remover'\n",
    "}\n",
    "\n",
    "# цикл для времени\n",
    "while True:\n",
    "    time_name = input(\"Insert time (am / pm): \").strip().lower()\n",
    "    time_key = time_dict.get(time_name)\n",
    "    if time_key is not None:\n",
    "        break\n",
    "    print(\"Unknown time, try again (use am or pm).\")\n",
    "\n",
    "# цикл для дня\n",
    "while True:\n",
    "    day_name = input(\"Insert day (monday, tuesday...): \").strip().lower()\n",
    "    day_key = day_dict.get(day_name)\n",
    "    if day_key is not None:\n",
    "        break\n",
    "    print(\"Unknown day, try again (use full name).\")\n",
    "\n",
    "# результат\n",
    "routine = base_day[day_key] + \" | \" + extras_by_time[time_key]\n",
    "print(f\"Routine for {day_key} ({time_key}): {routine}\")"
   ]
  }
 ],
 "metadata": {
  "kernelspec": {
   "display_name": "Python 3",
   "language": "python",
   "name": "python3"
  },
  "language_info": {
   "codemirror_mode": {
    "name": "ipython",
    "version": 3
   },
   "file_extension": ".py",
   "mimetype": "text/x-python",
   "name": "python",
   "nbconvert_exporter": "python",
   "pygments_lexer": "ipython3",
   "version": "3.11.9"
  }
 },
 "nbformat": 4,
 "nbformat_minor": 5
}
